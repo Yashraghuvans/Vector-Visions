{
  "nbformat": 4,
  "nbformat_minor": 0,
  "metadata": {
    "colab": {
      "provenance": []
    },
    "kernelspec": {
      "name": "python3",
      "display_name": "Python 3"
    },
    "language_info": {
      "name": "python"
    }
  },
  "cells": [
    {
      "cell_type": "code",
      "source": [
        "pip install ultralytics"
      ],
      "metadata": {
        "id": "BPyhBoGuOtZ4"
      },
      "execution_count": null,
      "outputs": []
    },
    {
      "cell_type": "code",
      "source": [
        "from ultralytics import YOLO\n",
        "\n",
        "model = YOLO(\"yolo11n.pt\")\n",
        "\n",
        "results = model.predict(source=\"video.mp4\", stream=True, save=True)\n",
        "\n",
        "for r in results:\n",
        "    masks = r.masks\n",
        "    boxes = r.boxes\n",
        "\n",
        "output_path = \"video.mp4\"\n",
        "print(f\"Saved segmented video to {output_path}\")"
      ],
      "metadata": {
        "id": "HWy9kjaqOu3R"
      },
      "execution_count": null,
      "outputs": []
    },
    {
      "cell_type": "code",
      "source": [
        "from ultralytics import YOLO\n",
        "\n",
        "model = YOLO(\"yolo11n.pt\")\n",
        "\n",
        "results = model.predict(source=\"video1.mp4\", stream=True, save=True)\n",
        "\n",
        "for r in results:\n",
        "    masks = r.masks\n",
        "    boxes = r.boxes\n",
        "\n",
        "output_path = \"video.mp4\"\n",
        "print(f\"Saved segmented video to {output_path}\")"
      ],
      "metadata": {
        "id": "SQaxqm5OOwQw"
      },
      "execution_count": null,
      "outputs": []
    }
  ]
}