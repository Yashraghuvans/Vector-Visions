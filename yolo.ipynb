{
  "cells": [
    {
      "cell_type": "code",
      "execution_count": null,
      "metadata": {
        "id": "HWy9kjaqOu3R"
      },
      "outputs": [],
      "source": [
        "from ultralytics import YOLO\n",
        "\n",
        "# Load the YOLO model\n",
        "model = YOLO(\"yolo11n.pt\")\n",
        "\n",
        "# Predict with the video.mp4 as the source\n",
        "results = model.predict(source=\"video.mp4\", stream=True, save=True)\n",
        "\n",
        "# Process results\n",
        "for r in results:\n",
        "    # Access masks and boxes (if needed)\n",
        "    masks = r.masks\n",
        "    boxes = r.boxes\n",
        "\n",
        "# Output path\n",
        "output_path = \"video.mp4\"\n",
        "print(f\"Saved segmented video to {output_path}\")"
      ]
    }
  ],
  "metadata": {
    "colab": {
      "provenance": []
    },
    "kernelspec": {
      "display_name": "Python 3",
      "name": "python3"
    },
    "language_info": {
      "name": "python"
    }
  },
  "nbformat": 4,
  "nbformat_minor": 0
}
